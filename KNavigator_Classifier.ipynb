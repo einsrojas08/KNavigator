{
  "nbformat": 4,
  "nbformat_minor": 0,
  "metadata": {
    "colab": {
      "name": "KNavigator-Classifier.ipynb",
      "provenance": [],
      "mount_file_id": "1uFznE8CriIHhhbYLVHYE7yJZBBFRJ7f9",
      "authorship_tag": "ABX9TyMLp0obfY4WPuQpA06VSg83",
      "include_colab_link": true
    },
    "kernelspec": {
      "name": "python3",
      "display_name": "Python 3"
    },
    "language_info": {
      "name": "python"
    }
  },
  "cells": [
    {
      "cell_type": "markdown",
      "metadata": {
        "id": "view-in-github",
        "colab_type": "text"
      },
      "source": [
        "<a href=\"https://colab.research.google.com/github/einsrojas08/KNavigator/blob/main/KNavigator_Classifier.ipynb\" target=\"_parent\"><img src=\"https://colab.research.google.com/assets/colab-badge.svg\" alt=\"Open In Colab\"/></a>"
      ]
    },
    {
      "cell_type": "code",
      "metadata": {
        "colab": {
          "base_uri": "https://localhost:8080/"
        },
        "id": "gXB2hQ8A5hA9",
        "outputId": "efa9a6a3-db50-4f7a-80ad-dc6660f8de3b"
      },
      "source": [
        "from google.colab import drive\n",
        "drive.mount ('/content/drive')"
      ],
      "execution_count": 1,
      "outputs": [
        {
          "output_type": "stream",
          "text": [
            "Mounted at /content/drive\n"
          ],
          "name": "stdout"
        }
      ]
    },
    {
      "cell_type": "code",
      "metadata": {
        "id": "bTNytE9d5539",
        "colab": {
          "base_uri": "https://localhost:8080/",
          "height": 0
        },
        "collapsed": true,
        "outputId": "05bf1a9f-e5c3-439a-d6cd-fb119ce2cd84"
      },
      "source": [
        "import pandas as pd\n",
        "import numpy as np\n",
        "import os\n",
        "import random\n",
        "import matplotlib.pyplot as plt"
      ],
      "execution_count": 16,
      "outputs": [
        {
          "output_type": "error",
          "ename": "SyntaxError",
          "evalue": "ignored",
          "traceback": [
            "\u001b[0;36m  File \u001b[0;32m\"<ipython-input-16-9da034401890>\"\u001b[0;36m, line \u001b[0;32m6\u001b[0m\n\u001b[0;31m    pipenv install pyspark\u001b[0m\n\u001b[0m                 ^\u001b[0m\n\u001b[0;31mSyntaxError\u001b[0m\u001b[0;31m:\u001b[0m invalid syntax\n"
          ]
        }
      ]
    },
    {
      "cell_type": "code",
      "metadata": {
        "colab": {
          "base_uri": "https://localhost:8080/"
        },
        "collapsed": true,
        "id": "ur0WP6tPbHuP",
        "outputId": "715d4eaf-4a33-4033-a64d-a3b606060791"
      },
      "source": [
        "!pip install pyspark"
      ],
      "execution_count": 19,
      "outputs": [
        {
          "output_type": "stream",
          "text": [
            "Collecting pyspark\n",
            "\u001b[?25l  Downloading https://files.pythonhosted.org/packages/45/b0/9d6860891ab14a39d4bddf80ba26ce51c2f9dc4805e5c6978ac0472c120a/pyspark-3.1.1.tar.gz (212.3MB)\n",
            "\u001b[K     |████████████████████████████████| 212.3MB 78kB/s \n",
            "\u001b[?25hCollecting py4j==0.10.9\n",
            "\u001b[?25l  Downloading https://files.pythonhosted.org/packages/9e/b6/6a4fb90cd235dc8e265a6a2067f2a2c99f0d91787f06aca4bcf7c23f3f80/py4j-0.10.9-py2.py3-none-any.whl (198kB)\n",
            "\u001b[K     |████████████████████████████████| 204kB 45.2MB/s \n",
            "\u001b[?25hBuilding wheels for collected packages: pyspark\n",
            "  Building wheel for pyspark (setup.py) ... \u001b[?25l\u001b[?25hdone\n",
            "  Created wheel for pyspark: filename=pyspark-3.1.1-py2.py3-none-any.whl size=212767604 sha256=24f6b8b9394dd738f5dd55e0bf84f7d284f2c840c011bcd8ef8287ec7f30a3d5\n",
            "  Stored in directory: /root/.cache/pip/wheels/0b/90/c0/01de724414ef122bd05f056541fb6a0ecf47c7ca655f8b3c0f\n",
            "Successfully built pyspark\n",
            "Installing collected packages: py4j, pyspark\n",
            "Successfully installed py4j-0.10.9 pyspark-3.1.1\n"
          ],
          "name": "stdout"
        }
      ]
    },
    {
      "cell_type": "code",
      "metadata": {
        "id": "0kmzqD7ebyaH"
      },
      "source": [
        "from pyspark import SparkContext\n",
        "from pyspark.sql import SparkSession\n",
        "sc = SparkContext(master=\"local[2]\")"
      ],
      "execution_count": null,
      "outputs": []
    },
    {
      "cell_type": "code",
      "metadata": {
        "id": "XHbb9Ggnd4FV"
      },
      "source": [
        "import pyspark.ml.feature\n",
        "from pyspark.ml.feature import Tokenizer,StopWordsRemover,CountVectorizer,IDF\n",
        "from pyspark.ml.feature import StringIndexer"
      ],
      "execution_count": 40,
      "outputs": []
    },
    {
      "cell_type": "code",
      "metadata": {
        "colab": {
          "base_uri": "https://localhost:8080/"
        },
        "id": "kBMsfoRk578K",
        "collapsed": true,
        "outputId": "7ac1239e-4274-46fc-d8e9-735352dda86d"
      },
      "source": [
        "#check files\n",
        "data_dir = '/content/drive/MyDrive/Kyosei Navigator'\n",
        "os.listdir(data_dir)"
      ],
      "execution_count": 4,
      "outputs": [
        {
          "output_type": "execute_result",
          "data": {
            "text/plain": [
              "['ORGdataset.csv',\n",
              " 'randomillness.csv',\n",
              " 'classifiedpatients.csv',\n",
              " 'KyoseiNavigator.ipynb',\n",
              " 'KNavigator-Classifier.ipynb']"
            ]
          },
          "metadata": {
            "tags": []
          },
          "execution_count": 4
        }
      ]
    },
    {
      "cell_type": "code",
      "metadata": {
        "colab": {
          "base_uri": "https://localhost:8080/"
        },
        "id": "E2HPPkPd8IqN",
        "outputId": "fbb0b511-7a03-477b-95b9-5e2958cbbb80"
      },
      "source": [
        "#read columns\n",
        "dfcp = pd.read_csv('/content/drive/MyDrive/Kyosei Navigator/classifiedpatients.csv')\n",
        "print(dfcp.columns)"
      ],
      "execution_count": 8,
      "outputs": [
        {
          "output_type": "stream",
          "text": [
            "Index(['Patient ID', 'Illness'], dtype='object')\n"
          ],
          "name": "stdout"
        }
      ]
    },
    {
      "cell_type": "code",
      "metadata": {
        "colab": {
          "base_uri": "https://localhost:8080/"
        },
        "id": "S3n69Uk5aLvA",
        "outputId": "3babebbe-2b87-4caa-af86-6c1382888229"
      },
      "source": [
        "#read columns\n",
        "dforg = pd.read_csv('/content/drive/MyDrive/Kyosei Navigator/ORGdataset.csv')\n",
        "print(dforg.columns)"
      ],
      "execution_count": 10,
      "outputs": [
        {
          "output_type": "stream",
          "text": [
            "Index(['Name of Organization', 'Specific Disease', 'Email '], dtype='object')\n"
          ],
          "name": "stdout"
        }
      ]
    },
    {
      "cell_type": "code",
      "metadata": {
        "id": "cYhMCJTCaZ7I"
      },
      "source": [
        "spark = SparkSession.builder.appName(\"orgclassified\").getOrCreate()"
      ],
      "execution_count": 24,
      "outputs": []
    },
    {
      "cell_type": "code",
      "metadata": {
        "colab": {
          "base_uri": "https://localhost:8080/"
        },
        "id": "EsNSReTLcf9g",
        "outputId": "7bf1294a-4a85-4764-a6dc-b434cd9b580d"
      },
      "source": [
        "dfcp = spark.read.csv('/content/drive/MyDrive/Kyosei Navigator/classifiedpatients.csv', header=True, inferSchema=True)\n",
        "dfcp.select('Patient ID','Illness')\n",
        "dfcp.columns"
      ],
      "execution_count": 67,
      "outputs": [
        {
          "output_type": "execute_result",
          "data": {
            "text/plain": [
              "['Patient ID', 'Illness']"
            ]
          },
          "metadata": {
            "tags": []
          },
          "execution_count": 67
        }
      ]
    },
    {
      "cell_type": "code",
      "metadata": {
        "id": "8YycEbLjdeym"
      },
      "source": [
        "dfcp.groupby('Illness').count().show()"
      ],
      "execution_count": null,
      "outputs": []
    },
    {
      "cell_type": "code",
      "metadata": {
        "id": "l3UBmxvkfAsf"
      },
      "source": [
        "tokenizer = Tokenizer(inputCol='Illness',outputCol='mytokens')\n",
        "stopwords_remover = StopWordsRemover(inputCol='mytokens',outputCol='filtered_tokens')\n",
        "vectorizer = CountVectorizer(inputCol='filtered_tokens',outputCol='rawFeatures')\n",
        "idf = IDF(inputCol='rawFeatures',outputCol='vectorizedFeatures')"
      ],
      "execution_count": 71,
      "outputs": []
    },
    {
      "cell_type": "code",
      "metadata": {
        "id": "K3FiY_iUf02G"
      },
      "source": [
        "labelEncoder = StringIndexer(inputCol='Illness',outputCol='label').fit(dfcp)"
      ],
      "execution_count": 72,
      "outputs": []
    },
    {
      "cell_type": "code",
      "metadata": {
        "colab": {
          "base_uri": "https://localhost:8080/"
        },
        "id": "G7WL6N6fg4sx",
        "outputId": "fcd7d2aa-8185-4617-87d2-f0dbab023508"
      },
      "source": [
        "labelEncoder.transform(dfcp).show(5)"
      ],
      "execution_count": 106,
      "outputs": [
        {
          "output_type": "stream",
          "text": [
            "+----------+--------------------+-----+\n",
            "|Patient ID|             Illness|label|\n",
            "+----------+--------------------+-----+\n",
            "|         1|Children with Chi...|  2.0|\n",
            "|         2|       Throat Cancer|  6.0|\n",
            "|         3|Women with Cervic...| 10.0|\n",
            "|         4|     Thyroid Cancer |  3.0|\n",
            "|         5|Patients with Dia...|  5.0|\n",
            "+----------+--------------------+-----+\n",
            "only showing top 5 rows\n",
            "\n"
          ],
          "name": "stdout"
        }
      ]
    },
    {
      "cell_type": "code",
      "metadata": {
        "colab": {
          "base_uri": "https://localhost:8080/"
        },
        "id": "XFTWtCrkkB5r",
        "outputId": "98863ea3-6f70-4ca3-fdf6-3c7071dddab8"
      },
      "source": [
        "labelEncoder.labels"
      ],
      "execution_count": 76,
      "outputs": [
        {
          "output_type": "execute_result",
          "data": {
            "text/plain": [
              "['Depression',\n",
              " 'Blood Disorder',\n",
              " 'Children with Childhood Cancer',\n",
              " 'Thyroid Cancer ',\n",
              " 'Patients having sideway curvature of spine',\n",
              " 'Patients with Diabetes',\n",
              " 'Throat Cancer',\n",
              " 'Children with cancer',\n",
              " 'Chronic Kidney Disease',\n",
              " 'Nueromuscular Disease',\n",
              " 'Women with Cervical Cancer',\n",
              " ' Type 1 Diabetes Patients',\n",
              " 'Disease that damage and weakens the muscle',\n",
              " 'Genetic Disorder of Nervous System',\n",
              " 'Groups of Men Surviving HIV',\n",
              " 'Groups of Mothers of Children with Acute Myeloid Leukemia',\n",
              " 'Groups of Surviving Women with HIV',\n",
              " 'Patient Suffering with Arthritis',\n",
              " 'Patient with Hepatitis',\n",
              " 'Patients with Psoriasis',\n",
              " 'Patients with Rheumatoid',\n",
              " 'Ballooning of blood vessel in the brain',\n",
              " 'Caring for Senior Citizen',\n",
              " 'Chronic Myeloid Leukemia',\n",
              " 'Disoder on muscle and tone posture causing damage to brain',\n",
              " 'Hearing Disability',\n",
              " 'Lack of sufficient blood Clothing',\n",
              " 'Skin Diseases with too much protein collagen',\n",
              " 'Type of Arthritis with a long term inflammation of joints and spine',\n",
              " 'Women with Breast Cancer',\n",
              " 'RARE Cancers']"
            ]
          },
          "metadata": {
            "tags": []
          },
          "execution_count": 76
        }
      ]
    },
    {
      "cell_type": "code",
      "metadata": {
        "id": "vyykMMCQkDtD"
      },
      "source": [
        "label_dict = {'Depression':0.0,\n",
        " 'Blood Disorder':1.0,\n",
        " 'Children with Childhood Cancer':2.0,\n",
        " 'Thyroid Cancer ':3.0,\n",
        " 'Patients having sideway curvature of spine':4.0,\n",
        " 'Patients with Diabetes':5.0,\n",
        " 'Throat Cancer':6.0,\n",
        " 'Children with cancer':2.0,\n",
        " 'Chronic Kidney Disease':8.0,\n",
        " 'Nueromuscular Disease':9.0,\n",
        " 'Women with Cervical Cancer':10.0,\n",
        " ' Type 1 Diabetes Patients':11.0,\n",
        " 'Disease that damage and weakens the muscle':12.0,\n",
        " 'Genetic Disorder of Nervous System':13.0,\n",
        " 'Groups of Men Surviving HIV':14.0,\n",
        " 'Groups of Mothers of Children with Acute Myeloid Leukemia':15.0,\n",
        " 'Groups of Surviving Women with HIV':16.0,\n",
        " 'Patient Suffering with Arthritis':17.0,\n",
        " 'Patient with Hepatitis':18.0,\n",
        " 'Patients with Psoriasis':19.0,\n",
        " 'Patients with Rheumatoid':20.0,\n",
        " 'Ballooning of blood vessel in the brain':21.0,\n",
        " 'Caring for Senior Citizen':22.0,\n",
        " 'Chronic Myeloid Leukemia':23.0,\n",
        " 'Disoder on muscle and tone posture causing damage to brain':14.0,\n",
        " 'Hearing Disability':25.0,\n",
        " 'Lack of sufficient blood Clothing':26.0,\n",
        " 'Skin Diseases with too much protein collagen':27.0,\n",
        " 'Type of Arthritis with a long term inflammation of joints and spine':28.0,\n",
        " 'Women with Breast Cancer':29.0,\n",
        " 'RARE Cancers':30.0}"
      ],
      "execution_count": 107,
      "outputs": []
    },
    {
      "cell_type": "code",
      "metadata": {
        "id": "NuhFIq4NpARw"
      },
      "source": [
        "dfcp.show()"
      ],
      "execution_count": null,
      "outputs": []
    },
    {
      "cell_type": "code",
      "metadata": {
        "id": "V8IyInEapXDR"
      },
      "source": [
        "(traindfcp,testdfcp) = dfcp.randomSplit((0.7,0.3),seed=42)"
      ],
      "execution_count": 121,
      "outputs": []
    },
    {
      "cell_type": "code",
      "metadata": {
        "id": "4Ghw8rHNp1Q4"
      },
      "source": [
        "from pyspark.ml.classification import LogisticRegression"
      ],
      "execution_count": 124,
      "outputs": []
    },
    {
      "cell_type": "code",
      "metadata": {
        "id": "cSNiwFnep-Ob"
      },
      "source": [
        "lr = LogisticRegression(featuresCol='vectorizedFeatures',labelCol='label')"
      ],
      "execution_count": 126,
      "outputs": []
    },
    {
      "cell_type": "code",
      "metadata": {
        "id": "dRsTseRcqDM0"
      },
      "source": [
        "from pyspark.ml import Pipeline"
      ],
      "execution_count": 127,
      "outputs": []
    },
    {
      "cell_type": "code",
      "metadata": {
        "id": "h1ojPo5cqEf-"
      },
      "source": [
        "pipeline = Pipeline(stages=[tokenizer,stopwords_remover,vectorizer,idf,lr])"
      ],
      "execution_count": 128,
      "outputs": []
    },
    {
      "cell_type": "code",
      "metadata": {
        "colab": {
          "base_uri": "https://localhost:8080/"
        },
        "id": "Mcah-_qOqHNZ",
        "outputId": "7a1ec512-56be-497a-a6c0-a6ff47bda1fd"
      },
      "source": [
        "pipeline"
      ],
      "execution_count": 129,
      "outputs": [
        {
          "output_type": "execute_result",
          "data": {
            "text/plain": [
              "Pipeline_f05ddfd3a756"
            ]
          },
          "metadata": {
            "tags": []
          },
          "execution_count": 129
        }
      ]
    },
    {
      "cell_type": "code",
      "metadata": {
        "colab": {
          "base_uri": "https://localhost:8080/"
        },
        "id": "9nkR0cbnqMiI",
        "outputId": "2e9d12e6-06e5-41c7-b596-c0de342bffcf"
      },
      "source": [
        "pipeline.stages"
      ],
      "execution_count": 130,
      "outputs": [
        {
          "output_type": "execute_result",
          "data": {
            "text/plain": [
              "Param(parent='Pipeline_f05ddfd3a756', name='stages', doc='a list of pipeline stages')"
            ]
          },
          "metadata": {
            "tags": []
          },
          "execution_count": 130
        }
      ]
    },
    {
      "cell_type": "code",
      "metadata": {
        "colab": {
          "base_uri": "https://localhost:8080/"
        },
        "id": "PfaKTi6dqPKs",
        "outputId": "c7e8a691-ddaf-4a27-8068-716731f60cd0"
      },
      "source": [
        "lr_model = pipeline.fit(traindfcp)\n",
        "lr_model"
      ],
      "execution_count": 131,
      "outputs": [
        {
          "output_type": "execute_result",
          "data": {
            "text/plain": [
              "PipelineModel_bf778fe74243"
            ]
          },
          "metadata": {
            "tags": []
          },
          "execution_count": 131
        }
      ]
    },
    {
      "cell_type": "code",
      "metadata": {
        "colab": {
          "base_uri": "https://localhost:8080/"
        },
        "id": "S4gWFqBjqW5D",
        "outputId": "72aa323b-f638-47cd-fdca-f9dfa8a741e4"
      },
      "source": [
        "predictions = lr_model.transform(testdfcp)\n",
        "predictions.show()"
      ],
      "execution_count": 132,
      "outputs": [
        {
          "output_type": "stream",
          "text": [
            "+----------+--------------------+-----+--------------------+--------------------+--------------------+--------------------+--------------------+--------------------+----------+\n",
            "|Patient ID|             Illness|label|            mytokens|     filtered_tokens|         rawFeatures|  vectorizedFeatures|       rawPrediction|         probability|prediction|\n",
            "+----------+--------------------+-----+--------------------+--------------------+--------------------+--------------------+--------------------+--------------------+----------+\n",
            "|         3|Women with Cervic...| 10.0|[women, with, cer...|[women, cervical,...|(69,[0,8,60],[1.0...|(69,[0,8,60],[1.3...|[-0.3273996121341...|[1.01503324984236...|      10.0|\n",
            "|         7|Patient with Hepa...| 18.0|[patient, with, h...|[patient, hepatitis]|(69,[23,53],[1.0,...|(69,[23,53],[3.03...|[-0.0635428384457...|[3.04387666964660...|      18.0|\n",
            "|         9|Nueromuscular Dis...|  9.0|[nueromuscular, d...|[nueromuscular, d...|(69,[6,41],[1.0,1...|(69,[6,41],[2.458...|[-0.0333629144949...|[3.05125971356492...|       9.0|\n",
            "|        10|Type of Arthritis...| 28.0|[type, of, arthri...|[type, arthritis,...|(69,[12,20,24,63,...|(69,[12,20,24,63,...|[0.13069916466009...|[1.49096151455236...|      28.0|\n",
            "|        14|      Blood Disorder|  1.0|   [blood, disorder]|   [blood, disorder]|(69,[3,5],[1.0,1.0])|(69,[3,5],[2.1865...|[-0.0739600613514...|[3.56248597452229...|       1.0|\n",
            "|        15|Patient Suffering...| 17.0|[patient, sufferi...|[patient, sufferi...|(69,[23,24,57],[1...|(69,[23,24,57],[3...|[-0.1530430574858...|[2.27582841413060...|      17.0|\n",
            "|        16|          Depression|  0.0|        [depression]|        [depression]|      (69,[9],[1.0])|(69,[9],[2.705379...|[21.8018645004919...|[0.99999999490446...|       0.0|\n",
            "|        20|Lack of sufficien...| 26.0|[lack, of, suffic...|[lack, sufficient...|(69,[3,56,58,59],...|(69,[3,56,58,59],...|[-0.0350973477811...|[1.37774083666522...|      26.0|\n",
            "|        22|          Depression|  0.0|        [depression]|        [depression]|      (69,[9],[1.0])|(69,[9],[2.705379...|[21.8018645004919...|[0.99999999490446...|       0.0|\n",
            "|        24|Women with Cervic...| 10.0|[women, with, cer...|[women, cervical,...|(69,[0,8,60],[1.0...|(69,[0,8,60],[1.3...|[-0.3273996121341...|[1.01503324984236...|      10.0|\n",
            "|        25|Chronic Kidney Di...|  8.0|[chronic, kidney,...|[chronic, kidney,...|(69,[6,14,27],[1....|(69,[6,14,27],[2....|[-0.1973963793007...|[1.50307917621877...|       8.0|\n",
            "|        29|       Throat Cancer|  6.0|    [throat, cancer]|    [throat, cancer]|(69,[0,16],[1.0,1...|(69,[0,16],[1.370...|[-0.1397862822525...|[2.19178986172113...|       6.0|\n",
            "|        30|          Depression|  0.0|        [depression]|        [depression]|      (69,[9],[1.0])|(69,[9],[2.705379...|[21.8018645004919...|[0.99999999490446...|       0.0|\n",
            "|        31|          Depression|  0.0|        [depression]|        [depression]|      (69,[9],[1.0])|(69,[9],[2.705379...|[21.8018645004919...|[0.99999999490446...|       0.0|\n",
            "|        33|Chronic Myeloid L...| 23.0|[chronic, myeloid...|[chronic, myeloid...|(69,[14,15,17],[1...|(69,[14,15,17],[2...|[0.12646137344966...|[4.37566435664129...|      23.0|\n",
            "|        35|Patients having s...|  4.0|[patients, having...|[patients, sidewa...|(69,[1,12,25,26],...|(69,[1,12,25,26],...|[-0.2025213165758...|[1.72122820674531...|       4.0|\n",
            "|        36|Nueromuscular Dis...|  9.0|[nueromuscular, d...|[nueromuscular, d...|(69,[6,41],[1.0,1...|(69,[6,41],[2.458...|[-0.0333629144949...|[3.05125971356492...|       9.0|\n",
            "|        40|Patients with Pso...| 19.0|[patients, with, ...|[patients, psoria...|(69,[1,61],[1.0,1...|(69,[1,61],[1.797...|[-0.1624049696249...|[2.25988775820369...|      19.0|\n",
            "|        43|Groups of Survivi...| 16.0|[groups, of, surv...|[groups, survivin...|(69,[4,8,18,19],[...|(69,[4,8,18,19],[...|[-0.0661088812566...|[5.99651663489961...|      16.0|\n",
            "|        44|Chronic Kidney Di...|  8.0|[chronic, kidney,...|[chronic, kidney,...|(69,[6,14,27],[1....|(69,[6,14,27],[2....|[-0.1973963793007...|[1.50307917621877...|       8.0|\n",
            "+----------+--------------------+-----+--------------------+--------------------+--------------------+--------------------+--------------------+--------------------+----------+\n",
            "only showing top 20 rows\n",
            "\n"
          ],
          "name": "stdout"
        }
      ]
    },
    {
      "cell_type": "code",
      "metadata": {
        "colab": {
          "base_uri": "https://localhost:8080/"
        },
        "id": "0PowRlfNqugQ",
        "outputId": "53f640f1-2f7b-434f-9e4b-32770cd173cb"
      },
      "source": [
        "predictions.columns"
      ],
      "execution_count": 133,
      "outputs": [
        {
          "output_type": "execute_result",
          "data": {
            "text/plain": [
              "['Patient ID',\n",
              " 'Illness',\n",
              " 'label',\n",
              " 'mytokens',\n",
              " 'filtered_tokens',\n",
              " 'rawFeatures',\n",
              " 'vectorizedFeatures',\n",
              " 'rawPrediction',\n",
              " 'probability',\n",
              " 'prediction']"
            ]
          },
          "metadata": {
            "tags": []
          },
          "execution_count": 133
        }
      ]
    },
    {
      "cell_type": "code",
      "metadata": {
        "colab": {
          "base_uri": "https://localhost:8080/"
        },
        "id": "Chk3Zmxoqw6H",
        "outputId": "8edc2ea9-d8f0-4f82-fbdd-2e18cef3b50d"
      },
      "source": [
        "predictions.select('rawPrediction','probability','Illness','label','prediction').show(10)"
      ],
      "execution_count": 134,
      "outputs": [
        {
          "output_type": "stream",
          "text": [
            "+--------------------+--------------------+--------------------+-----+----------+\n",
            "|       rawPrediction|         probability|             Illness|label|prediction|\n",
            "+--------------------+--------------------+--------------------+-----+----------+\n",
            "|[-0.3273996121341...|[1.01503324984236...|Women with Cervic...| 10.0|      10.0|\n",
            "|[-0.0635428384457...|[3.04387666964660...|Patient with Hepa...| 18.0|      18.0|\n",
            "|[-0.0333629144949...|[3.05125971356492...|Nueromuscular Dis...|  9.0|       9.0|\n",
            "|[0.13069916466009...|[1.49096151455236...|Type of Arthritis...| 28.0|      28.0|\n",
            "|[-0.0739600613514...|[3.56248597452229...|      Blood Disorder|  1.0|       1.0|\n",
            "|[-0.1530430574858...|[2.27582841413060...|Patient Suffering...| 17.0|      17.0|\n",
            "|[21.8018645004919...|[0.99999999490446...|          Depression|  0.0|       0.0|\n",
            "|[-0.0350973477811...|[1.37774083666522...|Lack of sufficien...| 26.0|      26.0|\n",
            "|[21.8018645004919...|[0.99999999490446...|          Depression|  0.0|       0.0|\n",
            "|[-0.3273996121341...|[1.01503324984236...|Women with Cervic...| 10.0|      10.0|\n",
            "+--------------------+--------------------+--------------------+-----+----------+\n",
            "only showing top 10 rows\n",
            "\n"
          ],
          "name": "stdout"
        }
      ]
    },
    {
      "cell_type": "code",
      "metadata": {
        "id": "0Q2shBBcq3iM"
      },
      "source": [
        "from pyspark.ml.evaluation import MulticlassClassificationEvaluator"
      ],
      "execution_count": 135,
      "outputs": []
    },
    {
      "cell_type": "code",
      "metadata": {
        "id": "cH4FgGSfq7si"
      },
      "source": [
        "evaluator = MulticlassClassificationEvaluator(labelCol='label',predictionCol='prediction',metricName='accuracy')"
      ],
      "execution_count": 136,
      "outputs": []
    },
    {
      "cell_type": "code",
      "metadata": {
        "id": "edB3YOfLq_9X"
      },
      "source": [
        "accuracy = evaluator.evaluate(predictions)"
      ],
      "execution_count": 137,
      "outputs": []
    },
    {
      "cell_type": "code",
      "metadata": {
        "colab": {
          "base_uri": "https://localhost:8080/"
        },
        "id": "qPyQuyqHrBtg",
        "outputId": "c12f9cc3-4233-40c3-9dd4-95702ac465a2"
      },
      "source": [
        "accuracy"
      ],
      "execution_count": 138,
      "outputs": [
        {
          "output_type": "execute_result",
          "data": {
            "text/plain": [
              "1.0"
            ]
          },
          "metadata": {
            "tags": []
          },
          "execution_count": 138
        }
      ]
    },
    {
      "cell_type": "code",
      "metadata": {
        "colab": {
          "base_uri": "https://localhost:8080/",
          "height": 757
        },
        "id": "nP5MC8K4rKw2",
        "outputId": "92fd5812-46e5-4fab-c302-fd7e39c3a303"
      },
      "source": [
        "modelPath = \"models/KNavigatorclassifiermodel\"\n",
        "lr_model.save(modelPath)"
      ],
      "execution_count": 140,
      "outputs": [
        {
          "output_type": "error",
          "ename": "Py4JJavaError",
          "evalue": "ignored",
          "traceback": [
            "\u001b[0;31m---------------------------------------------------------------------------\u001b[0m",
            "\u001b[0;31mPy4JJavaError\u001b[0m                             Traceback (most recent call last)",
            "\u001b[0;32m<ipython-input-140-26871121fd78>\u001b[0m in \u001b[0;36m<module>\u001b[0;34m()\u001b[0m\n\u001b[1;32m      1\u001b[0m \u001b[0mmodelPath\u001b[0m \u001b[0;34m=\u001b[0m \u001b[0;34m\"models/KNavigatorclassifiermodel\"\u001b[0m\u001b[0;34m\u001b[0m\u001b[0;34m\u001b[0m\u001b[0m\n\u001b[0;32m----> 2\u001b[0;31m \u001b[0mlr_model\u001b[0m\u001b[0;34m.\u001b[0m\u001b[0msave\u001b[0m\u001b[0;34m(\u001b[0m\u001b[0mmodelPath\u001b[0m\u001b[0;34m)\u001b[0m\u001b[0;34m\u001b[0m\u001b[0;34m\u001b[0m\u001b[0m\n\u001b[0m",
            "\u001b[0;32m/usr/local/lib/python3.7/dist-packages/pyspark/ml/util.py\u001b[0m in \u001b[0;36msave\u001b[0;34m(self, path)\u001b[0m\n\u001b[1;32m    224\u001b[0m     \u001b[0;32mdef\u001b[0m \u001b[0msave\u001b[0m\u001b[0;34m(\u001b[0m\u001b[0mself\u001b[0m\u001b[0;34m,\u001b[0m \u001b[0mpath\u001b[0m\u001b[0;34m)\u001b[0m\u001b[0;34m:\u001b[0m\u001b[0;34m\u001b[0m\u001b[0;34m\u001b[0m\u001b[0m\n\u001b[1;32m    225\u001b[0m         \u001b[0;34m\"\"\"Save this ML instance to the given path, a shortcut of 'write().save(path)'.\"\"\"\u001b[0m\u001b[0;34m\u001b[0m\u001b[0;34m\u001b[0m\u001b[0m\n\u001b[0;32m--> 226\u001b[0;31m         \u001b[0mself\u001b[0m\u001b[0;34m.\u001b[0m\u001b[0mwrite\u001b[0m\u001b[0;34m(\u001b[0m\u001b[0;34m)\u001b[0m\u001b[0;34m.\u001b[0m\u001b[0msave\u001b[0m\u001b[0;34m(\u001b[0m\u001b[0mpath\u001b[0m\u001b[0;34m)\u001b[0m\u001b[0;34m\u001b[0m\u001b[0;34m\u001b[0m\u001b[0m\n\u001b[0m\u001b[1;32m    227\u001b[0m \u001b[0;34m\u001b[0m\u001b[0m\n\u001b[1;32m    228\u001b[0m \u001b[0;34m\u001b[0m\u001b[0m\n",
            "\u001b[0;32m/usr/local/lib/python3.7/dist-packages/pyspark/ml/util.py\u001b[0m in \u001b[0;36msave\u001b[0;34m(self, path)\u001b[0m\n\u001b[1;32m    175\u001b[0m         \u001b[0;32mif\u001b[0m \u001b[0;32mnot\u001b[0m \u001b[0misinstance\u001b[0m\u001b[0;34m(\u001b[0m\u001b[0mpath\u001b[0m\u001b[0;34m,\u001b[0m \u001b[0mstr\u001b[0m\u001b[0;34m)\u001b[0m\u001b[0;34m:\u001b[0m\u001b[0;34m\u001b[0m\u001b[0;34m\u001b[0m\u001b[0m\n\u001b[1;32m    176\u001b[0m             \u001b[0;32mraise\u001b[0m \u001b[0mTypeError\u001b[0m\u001b[0;34m(\u001b[0m\u001b[0;34m\"path should be a string, got type %s\"\u001b[0m \u001b[0;34m%\u001b[0m \u001b[0mtype\u001b[0m\u001b[0;34m(\u001b[0m\u001b[0mpath\u001b[0m\u001b[0;34m)\u001b[0m\u001b[0;34m)\u001b[0m\u001b[0;34m\u001b[0m\u001b[0;34m\u001b[0m\u001b[0m\n\u001b[0;32m--> 177\u001b[0;31m         \u001b[0mself\u001b[0m\u001b[0;34m.\u001b[0m\u001b[0m_jwrite\u001b[0m\u001b[0;34m.\u001b[0m\u001b[0msave\u001b[0m\u001b[0;34m(\u001b[0m\u001b[0mpath\u001b[0m\u001b[0;34m)\u001b[0m\u001b[0;34m\u001b[0m\u001b[0;34m\u001b[0m\u001b[0m\n\u001b[0m\u001b[1;32m    178\u001b[0m \u001b[0;34m\u001b[0m\u001b[0m\n\u001b[1;32m    179\u001b[0m     \u001b[0;32mdef\u001b[0m \u001b[0moverwrite\u001b[0m\u001b[0;34m(\u001b[0m\u001b[0mself\u001b[0m\u001b[0;34m)\u001b[0m\u001b[0;34m:\u001b[0m\u001b[0;34m\u001b[0m\u001b[0;34m\u001b[0m\u001b[0m\n",
            "\u001b[0;32m/usr/local/lib/python3.7/dist-packages/py4j/java_gateway.py\u001b[0m in \u001b[0;36m__call__\u001b[0;34m(self, *args)\u001b[0m\n\u001b[1;32m   1303\u001b[0m         \u001b[0manswer\u001b[0m \u001b[0;34m=\u001b[0m \u001b[0mself\u001b[0m\u001b[0;34m.\u001b[0m\u001b[0mgateway_client\u001b[0m\u001b[0;34m.\u001b[0m\u001b[0msend_command\u001b[0m\u001b[0;34m(\u001b[0m\u001b[0mcommand\u001b[0m\u001b[0;34m)\u001b[0m\u001b[0;34m\u001b[0m\u001b[0;34m\u001b[0m\u001b[0m\n\u001b[1;32m   1304\u001b[0m         return_value = get_return_value(\n\u001b[0;32m-> 1305\u001b[0;31m             answer, self.gateway_client, self.target_id, self.name)\n\u001b[0m\u001b[1;32m   1306\u001b[0m \u001b[0;34m\u001b[0m\u001b[0m\n\u001b[1;32m   1307\u001b[0m         \u001b[0;32mfor\u001b[0m \u001b[0mtemp_arg\u001b[0m \u001b[0;32min\u001b[0m \u001b[0mtemp_args\u001b[0m\u001b[0;34m:\u001b[0m\u001b[0;34m\u001b[0m\u001b[0;34m\u001b[0m\u001b[0m\n",
            "\u001b[0;32m/usr/local/lib/python3.7/dist-packages/pyspark/sql/utils.py\u001b[0m in \u001b[0;36mdeco\u001b[0;34m(*a, **kw)\u001b[0m\n\u001b[1;32m    109\u001b[0m     \u001b[0;32mdef\u001b[0m \u001b[0mdeco\u001b[0m\u001b[0;34m(\u001b[0m\u001b[0;34m*\u001b[0m\u001b[0ma\u001b[0m\u001b[0;34m,\u001b[0m \u001b[0;34m**\u001b[0m\u001b[0mkw\u001b[0m\u001b[0;34m)\u001b[0m\u001b[0;34m:\u001b[0m\u001b[0;34m\u001b[0m\u001b[0;34m\u001b[0m\u001b[0m\n\u001b[1;32m    110\u001b[0m         \u001b[0;32mtry\u001b[0m\u001b[0;34m:\u001b[0m\u001b[0;34m\u001b[0m\u001b[0;34m\u001b[0m\u001b[0m\n\u001b[0;32m--> 111\u001b[0;31m             \u001b[0;32mreturn\u001b[0m \u001b[0mf\u001b[0m\u001b[0;34m(\u001b[0m\u001b[0;34m*\u001b[0m\u001b[0ma\u001b[0m\u001b[0;34m,\u001b[0m \u001b[0;34m**\u001b[0m\u001b[0mkw\u001b[0m\u001b[0;34m)\u001b[0m\u001b[0;34m\u001b[0m\u001b[0;34m\u001b[0m\u001b[0m\n\u001b[0m\u001b[1;32m    112\u001b[0m         \u001b[0;32mexcept\u001b[0m \u001b[0mpy4j\u001b[0m\u001b[0;34m.\u001b[0m\u001b[0mprotocol\u001b[0m\u001b[0;34m.\u001b[0m\u001b[0mPy4JJavaError\u001b[0m \u001b[0;32mas\u001b[0m \u001b[0me\u001b[0m\u001b[0;34m:\u001b[0m\u001b[0;34m\u001b[0m\u001b[0;34m\u001b[0m\u001b[0m\n\u001b[1;32m    113\u001b[0m             \u001b[0mconverted\u001b[0m \u001b[0;34m=\u001b[0m \u001b[0mconvert_exception\u001b[0m\u001b[0;34m(\u001b[0m\u001b[0me\u001b[0m\u001b[0;34m.\u001b[0m\u001b[0mjava_exception\u001b[0m\u001b[0;34m)\u001b[0m\u001b[0;34m\u001b[0m\u001b[0;34m\u001b[0m\u001b[0m\n",
            "\u001b[0;32m/usr/local/lib/python3.7/dist-packages/py4j/protocol.py\u001b[0m in \u001b[0;36mget_return_value\u001b[0;34m(answer, gateway_client, target_id, name)\u001b[0m\n\u001b[1;32m    326\u001b[0m                 raise Py4JJavaError(\n\u001b[1;32m    327\u001b[0m                     \u001b[0;34m\"An error occurred while calling {0}{1}{2}.\\n\"\u001b[0m\u001b[0;34m.\u001b[0m\u001b[0;34m\u001b[0m\u001b[0;34m\u001b[0m\u001b[0m\n\u001b[0;32m--> 328\u001b[0;31m                     format(target_id, \".\", name), value)\n\u001b[0m\u001b[1;32m    329\u001b[0m             \u001b[0;32melse\u001b[0m\u001b[0;34m:\u001b[0m\u001b[0;34m\u001b[0m\u001b[0;34m\u001b[0m\u001b[0m\n\u001b[1;32m    330\u001b[0m                 raise Py4JError(\n",
            "\u001b[0;31mPy4JJavaError\u001b[0m: An error occurred while calling o1548.save.\n: java.io.IOException: Path models/KNavigatorclassifiermodel already exists. To overwrite it, please use write.overwrite().save(path) for Scala and use write().overwrite().save(path) for Java and Python.\n\tat org.apache.spark.ml.util.FileSystemOverwrite.handleOverwrite(ReadWrite.scala:683)\n\tat org.apache.spark.ml.util.MLWriter.save(ReadWrite.scala:167)\n\tat org.apache.spark.ml.PipelineModel$PipelineModelWriter.super$save(Pipeline.scala:344)\n\tat org.apache.spark.ml.PipelineModel$PipelineModelWriter.$anonfun$save$4(Pipeline.scala:344)\n\tat org.apache.spark.ml.MLEvents.withSaveInstanceEvent(events.scala:174)\n\tat org.apache.spark.ml.MLEvents.withSaveInstanceEvent$(events.scala:169)\n\tat org.apache.spark.ml.util.Instrumentation.withSaveInstanceEvent(Instrumentation.scala:42)\n\tat org.apache.spark.ml.PipelineModel$PipelineModelWriter.$anonfun$save$3(Pipeline.scala:344)\n\tat org.apache.spark.ml.PipelineModel$PipelineModelWriter.$anonfun$save$3$adapted(Pipeline.scala:344)\n\tat org.apache.spark.ml.util.Instrumentation$.$anonfun$instrumented$1(Instrumentation.scala:191)\n\tat scala.util.Try$.apply(Try.scala:213)\n\tat org.apache.spark.ml.util.Instrumentation$.instrumented(Instrumentation.scala:191)\n\tat org.apache.spark.ml.PipelineModel$PipelineModelWriter.save(Pipeline.scala:344)\n\tat java.base/jdk.internal.reflect.NativeMethodAccessorImpl.invoke0(Native Method)\n\tat java.base/jdk.internal.reflect.NativeMethodAccessorImpl.invoke(NativeMethodAccessorImpl.java:62)\n\tat java.base/jdk.internal.reflect.DelegatingMethodAccessorImpl.invoke(DelegatingMethodAccessorImpl.java:43)\n\tat java.base/java.lang.reflect.Method.invoke(Method.java:566)\n\tat py4j.reflection.MethodInvoker.invoke(MethodInvoker.java:244)\n\tat py4j.reflection.ReflectionEngine.invoke(ReflectionEngine.java:357)\n\tat py4j.Gateway.invoke(Gateway.java:282)\n\tat py4j.commands.AbstractCommand.invokeMethod(AbstractCommand.java:132)\n\tat py4j.commands.CallCommand.execute(CallCommand.java:79)\n\tat py4j.GatewayConnection.run(GatewayConnection.java:238)\n\tat java.base/java.lang.Thread.run(Thread.java:834)\n"
          ]
        }
      ]
    }
  ]
}